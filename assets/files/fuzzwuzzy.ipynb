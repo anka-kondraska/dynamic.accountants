{
 "cells": [
  {
   "cell_type": "code",
   "execution_count": 29,
   "metadata": {},
   "outputs": [],
   "source": [
    "import pandas as pd"
   ]
  },
  {
   "cell_type": "code",
   "execution_count": 39,
   "metadata": {},
   "outputs": [],
   "source": [
    "from fuzzywuzzy import fuzz\n",
    "from fuzzywuzzy import process"
   ]
  },
  {
   "cell_type": "code",
   "execution_count": 40,
   "metadata": {},
   "outputs": [],
   "source": [
    "df_vendors=pd.read_excel('~/Downloads/2020-06-16 data export 2/ACC 455 001 SQ 2020/Homework 3/Fuzzy-Tables-1.xlsm',sheet_name='Vendors')"
   ]
  },
  {
   "cell_type": "code",
   "execution_count": 41,
   "metadata": {},
   "outputs": [
    {
     "data": {
      "text/html": [
       "<div>\n",
       "<style scoped>\n",
       "    .dataframe tbody tr th:only-of-type {\n",
       "        vertical-align: middle;\n",
       "    }\n",
       "\n",
       "    .dataframe tbody tr th {\n",
       "        vertical-align: top;\n",
       "    }\n",
       "\n",
       "    .dataframe thead th {\n",
       "        text-align: right;\n",
       "    }\n",
       "</style>\n",
       "<table border=\"1\" class=\"dataframe\">\n",
       "  <thead>\n",
       "    <tr style=\"text-align: right;\">\n",
       "      <th></th>\n",
       "      <th>VendorID</th>\n",
       "      <th>VendorName</th>\n",
       "      <th>VendorType</th>\n",
       "      <th>VendorSince</th>\n",
       "      <th>VendorContact</th>\n",
       "      <th>VendorBillingAddress</th>\n",
       "      <th>VendorBillingCity</th>\n",
       "      <th>VendorBillingState</th>\n",
       "      <th>VendorBillingZip</th>\n",
       "      <th>VendorBillingPhone</th>\n",
       "    </tr>\n",
       "  </thead>\n",
       "  <tbody>\n",
       "    <tr>\n",
       "      <th>0</th>\n",
       "      <td>5001</td>\n",
       "      <td>Subcone</td>\n",
       "      <td>Retail</td>\n",
       "      <td>2010-01-06</td>\n",
       "      <td>Zechariah Lynch</td>\n",
       "      <td>260 Airport Street</td>\n",
       "      <td>Belmont</td>\n",
       "      <td>MA</td>\n",
       "      <td>2478</td>\n",
       "      <td>3375939790</td>\n",
       "    </tr>\n",
       "    <tr>\n",
       "      <th>1</th>\n",
       "      <td>5002</td>\n",
       "      <td>Groovefan</td>\n",
       "      <td>Wholesale</td>\n",
       "      <td>2010-02-11</td>\n",
       "      <td>Meadow Farrell</td>\n",
       "      <td>182 Bayberry St.</td>\n",
       "      <td>Matthews</td>\n",
       "      <td>NC</td>\n",
       "      <td>28104</td>\n",
       "      <td>3478398739</td>\n",
       "    </tr>\n",
       "    <tr>\n",
       "      <th>2</th>\n",
       "      <td>5003</td>\n",
       "      <td>Zapsanflex</td>\n",
       "      <td>Wholesale</td>\n",
       "      <td>2010-03-15</td>\n",
       "      <td>Andres Phillips</td>\n",
       "      <td>375 Theatre Rd.</td>\n",
       "      <td>Millville</td>\n",
       "      <td>NJ</td>\n",
       "      <td>8332</td>\n",
       "      <td>8148473222</td>\n",
       "    </tr>\n",
       "    <tr>\n",
       "      <th>3</th>\n",
       "      <td>5004</td>\n",
       "      <td>Zammedia</td>\n",
       "      <td>Retail</td>\n",
       "      <td>2010-04-09</td>\n",
       "      <td>Rohan Jimenez</td>\n",
       "      <td>48 Fremont Dr.</td>\n",
       "      <td>Frankfort</td>\n",
       "      <td>KY</td>\n",
       "      <td>40601</td>\n",
       "      <td>8282690510</td>\n",
       "    </tr>\n",
       "    <tr>\n",
       "      <th>4</th>\n",
       "      <td>5005</td>\n",
       "      <td>Unosunflex</td>\n",
       "      <td>Retail</td>\n",
       "      <td>2010-04-12</td>\n",
       "      <td>Alexis Lloyd</td>\n",
       "      <td>34 Mayfield St.</td>\n",
       "      <td>Ridgefield</td>\n",
       "      <td>CT</td>\n",
       "      <td>6877</td>\n",
       "      <td>3526796551</td>\n",
       "    </tr>\n",
       "  </tbody>\n",
       "</table>\n",
       "</div>"
      ],
      "text/plain": [
       "   VendorID  VendorName VendorType VendorSince    VendorContact  \\\n",
       "0      5001     Subcone     Retail  2010-01-06  Zechariah Lynch   \n",
       "1      5002   Groovefan  Wholesale  2010-02-11   Meadow Farrell   \n",
       "2      5003  Zapsanflex  Wholesale  2010-03-15  Andres Phillips   \n",
       "3      5004    Zammedia     Retail  2010-04-09    Rohan Jimenez   \n",
       "4      5005  Unosunflex     Retail  2010-04-12     Alexis Lloyd   \n",
       "\n",
       "  VendorBillingAddress VendorBillingCity VendorBillingState  VendorBillingZip  \\\n",
       "0  260 Airport Street            Belmont                 MA              2478   \n",
       "1    182 Bayberry St.           Matthews                 NC             28104   \n",
       "2     375 Theatre Rd.          Millville                 NJ              8332   \n",
       "3      48 Fremont Dr.          Frankfort                 KY             40601   \n",
       "4     34 Mayfield St.         Ridgefield                 CT              6877   \n",
       "\n",
       "   VendorBillingPhone  \n",
       "0          3375939790  \n",
       "1          3478398739  \n",
       "2          8148473222  \n",
       "3          8282690510  \n",
       "4          3526796551  "
      ]
     },
     "execution_count": 41,
     "metadata": {},
     "output_type": "execute_result"
    }
   ],
   "source": [
    "df_vendors.head()"
   ]
  },
  {
   "cell_type": "code",
   "execution_count": 42,
   "metadata": {},
   "outputs": [],
   "source": [
    "df_employees=pd.read_excel('~/Downloads/2020-06-16 data export 2/ACC 455 001 SQ 2020/Homework 3/Fuzzy-Tables-1.xlsm',sheet_name='Employees')"
   ]
  },
  {
   "cell_type": "code",
   "execution_count": 43,
   "metadata": {},
   "outputs": [
    {
     "data": {
      "text/html": [
       "<div>\n",
       "<style scoped>\n",
       "    .dataframe tbody tr th:only-of-type {\n",
       "        vertical-align: middle;\n",
       "    }\n",
       "\n",
       "    .dataframe tbody tr th {\n",
       "        vertical-align: top;\n",
       "    }\n",
       "\n",
       "    .dataframe thead th {\n",
       "        text-align: right;\n",
       "    }\n",
       "</style>\n",
       "<table border=\"1\" class=\"dataframe\">\n",
       "  <thead>\n",
       "    <tr style=\"text-align: right;\">\n",
       "      <th></th>\n",
       "      <th>EmployeeStreetAddress</th>\n",
       "      <th>EmployeeID</th>\n",
       "      <th>EmployeeFirstName</th>\n",
       "      <th>EmployeeLastName</th>\n",
       "      <th>EmployeeGender</th>\n",
       "      <th>EmployeeHireDate</th>\n",
       "      <th>EmployeeStreetAddress2</th>\n",
       "      <th>EmployeeCity</th>\n",
       "      <th>EmployeeState</th>\n",
       "      <th>EmployeeZip</th>\n",
       "      <th>EmployeePhone</th>\n",
       "    </tr>\n",
       "  </thead>\n",
       "  <tbody>\n",
       "    <tr>\n",
       "      <th>0</th>\n",
       "      <td>306A Oakwood Lane</td>\n",
       "      <td>1049</td>\n",
       "      <td>Ana</td>\n",
       "      <td>Terrell</td>\n",
       "      <td>F</td>\n",
       "      <td>2019-01-15</td>\n",
       "      <td>306A Oakwood Lane</td>\n",
       "      <td>Algonquin</td>\n",
       "      <td>IL</td>\n",
       "      <td>60102</td>\n",
       "      <td>3524937211</td>\n",
       "    </tr>\n",
       "    <tr>\n",
       "      <th>1</th>\n",
       "      <td>93 Wakehurst Lane</td>\n",
       "      <td>1009</td>\n",
       "      <td>Tabitha</td>\n",
       "      <td>Dennis</td>\n",
       "      <td>F</td>\n",
       "      <td>2011-06-27</td>\n",
       "      <td>93 Wakehurst Lane</td>\n",
       "      <td>Alliance</td>\n",
       "      <td>OH</td>\n",
       "      <td>44601</td>\n",
       "      <td>9066082859</td>\n",
       "    </tr>\n",
       "    <tr>\n",
       "      <th>2</th>\n",
       "      <td>7489 Bayport St.</td>\n",
       "      <td>1022</td>\n",
       "      <td>Caroline</td>\n",
       "      <td>Davis</td>\n",
       "      <td>F</td>\n",
       "      <td>2013-03-22</td>\n",
       "      <td>7489 Bayport St.</td>\n",
       "      <td>Ames</td>\n",
       "      <td>IA</td>\n",
       "      <td>50010</td>\n",
       "      <td>3257842718</td>\n",
       "    </tr>\n",
       "    <tr>\n",
       "      <th>3</th>\n",
       "      <td>9173 West Squaw Creek Drive</td>\n",
       "      <td>1049</td>\n",
       "      <td>Camille</td>\n",
       "      <td>Stokes</td>\n",
       "      <td>F</td>\n",
       "      <td>2017-02-09</td>\n",
       "      <td>9173 West Squaw Creek Drive</td>\n",
       "      <td>Arvada</td>\n",
       "      <td>CO</td>\n",
       "      <td>80003</td>\n",
       "      <td>2064592209</td>\n",
       "    </tr>\n",
       "    <tr>\n",
       "      <th>4</th>\n",
       "      <td>9444 Manhattan Dr.</td>\n",
       "      <td>1049</td>\n",
       "      <td>Semaj</td>\n",
       "      <td>Hawkins</td>\n",
       "      <td>M</td>\n",
       "      <td>2017-12-13</td>\n",
       "      <td>9444 Manhattan Dr.</td>\n",
       "      <td>Astoria</td>\n",
       "      <td>NY</td>\n",
       "      <td>11102</td>\n",
       "      <td>6097459461</td>\n",
       "    </tr>\n",
       "  </tbody>\n",
       "</table>\n",
       "</div>"
      ],
      "text/plain": [
       "          EmployeeStreetAddress  EmployeeID EmployeeFirstName  \\\n",
       "0            306A Oakwood Lane         1049               Ana   \n",
       "1            93 Wakehurst Lane         1009           Tabitha   \n",
       "2             7489 Bayport St.         1022          Caroline   \n",
       "3  9173 West Squaw Creek Drive         1049           Camille   \n",
       "4           9444 Manhattan Dr.         1049             Semaj   \n",
       "\n",
       "  EmployeeLastName EmployeeGender EmployeeHireDate  \\\n",
       "0          Terrell              F       2019-01-15   \n",
       "1           Dennis              F       2011-06-27   \n",
       "2            Davis              F       2013-03-22   \n",
       "3           Stokes              F       2017-02-09   \n",
       "4          Hawkins              M       2017-12-13   \n",
       "\n",
       "         EmployeeStreetAddress2 EmployeeCity EmployeeState  EmployeeZip  \\\n",
       "0            306A Oakwood Lane     Algonquin            IL        60102   \n",
       "1            93 Wakehurst Lane      Alliance            OH        44601   \n",
       "2             7489 Bayport St.          Ames            IA        50010   \n",
       "3  9173 West Squaw Creek Drive        Arvada            CO        80003   \n",
       "4           9444 Manhattan Dr.       Astoria            NY        11102   \n",
       "\n",
       "   EmployeePhone  \n",
       "0     3524937211  \n",
       "1     9066082859  \n",
       "2     3257842718  \n",
       "3     2064592209  \n",
       "4     6097459461  "
      ]
     },
     "execution_count": 43,
     "metadata": {},
     "output_type": "execute_result"
    }
   ],
   "source": [
    "df_employees.head()"
   ]
  },
  {
   "cell_type": "code",
   "execution_count": 44,
   "metadata": {},
   "outputs": [
    {
     "data": {
      "text/plain": [
       "Index(['VendorID', 'VendorName', 'VendorType', 'VendorSince', 'VendorContact',\n",
       "       'VendorBillingAddress', 'VendorBillingCity', 'VendorBillingState',\n",
       "       'VendorBillingZip', 'VendorBillingPhone'],\n",
       "      dtype='object')"
      ]
     },
     "execution_count": 44,
     "metadata": {},
     "output_type": "execute_result"
    }
   ],
   "source": [
    "df_vendors.columns"
   ]
  },
  {
   "cell_type": "code",
   "execution_count": 45,
   "metadata": {},
   "outputs": [
    {
     "data": {
      "text/plain": [
       "Index(['EmployeeStreetAddress', 'EmployeeID', 'EmployeeFirstName',\n",
       "       'EmployeeLastName', 'EmployeeGender', 'EmployeeHireDate',\n",
       "       'EmployeeStreetAddress2', 'EmployeeCity', 'EmployeeState',\n",
       "       'EmployeeZip', 'EmployeePhone'],\n",
       "      dtype='object')"
      ]
     },
     "execution_count": 45,
     "metadata": {},
     "output_type": "execute_result"
    }
   ],
   "source": [
    "df_employees.columns"
   ]
  },
  {
   "cell_type": "code",
   "execution_count": 60,
   "metadata": {},
   "outputs": [],
   "source": [
    "scores=pd.DataFrame(columns=['Vendor', 'Vendor Address', 'Employee', 'Employee Address', 'Score'])"
   ]
  },
  {
   "cell_type": "code",
   "execution_count": 52,
   "metadata": {},
   "outputs": [
    {
     "data": {
      "text/plain": [
       "['306A Oakwood Lane ', '93 Wakehurst Lane ']"
      ]
     },
     "execution_count": 52,
     "metadata": {},
     "output_type": "execute_result"
    }
   ],
   "source": [
    "ee_choices[:2]"
   ]
  },
  {
   "cell_type": "code",
   "execution_count": 47,
   "metadata": {},
   "outputs": [
    {
     "data": {
      "text/plain": [
       "60"
      ]
     },
     "execution_count": 47,
     "metadata": {},
     "output_type": "execute_result"
    }
   ],
   "source": [
    "fuzz.token_set_ratio(df_vendors['VendorBillingAddress'][1],df_employees['EmployeeStreetAddress'][2])"
   ]
  },
  {
   "cell_type": "code",
   "execution_count": 53,
   "metadata": {},
   "outputs": [],
   "source": [
    "ee_choices = df_employees['EmployeeStreetAddress'].tolist()"
   ]
  },
  {
   "cell_type": "code",
   "execution_count": 54,
   "metadata": {},
   "outputs": [
    {
     "data": {
      "text/plain": [
       "[('27 Arch St. ', 86), ('6 Beech St. ', 86)]"
      ]
     },
     "execution_count": 54,
     "metadata": {},
     "output_type": "execute_result"
    }
   ],
   "source": [
    "process.extract(df_vendors['VendorBillingAddress'][1], ee_choices, limit=2)"
   ]
  },
  {
   "cell_type": "code",
   "execution_count": 55,
   "metadata": {},
   "outputs": [
    {
     "data": {
      "text/plain": [
       "'182 Bayberry St. '"
      ]
     },
     "execution_count": 55,
     "metadata": {},
     "output_type": "execute_result"
    }
   ],
   "source": [
    "df_vendors['VendorBillingAddress'][1]"
   ]
  },
  {
   "cell_type": "code",
   "execution_count": 57,
   "metadata": {},
   "outputs": [
    {
     "data": {
      "text/plain": [
       "('27 Arch St. ', 86)"
      ]
     },
     "execution_count": 57,
     "metadata": {},
     "output_type": "execute_result"
    }
   ],
   "source": [
    "process.extractOne(df_vendors['VendorBillingAddress'][1], ee_choices)"
   ]
  },
  {
   "cell_type": "code",
   "execution_count": 77,
   "metadata": {},
   "outputs": [
    {
     "name": "stdout",
     "output_type": "stream",
     "text": [
      "260 Airport Street  Watson 82 Airport Dr.  71\n",
      "182 Bayberry St.  Maynard 27 Arch St.  86\n",
      "375 Theatre Rd.  Duke 8748 W. Theatre Ave.  64\n",
      "48 Fremont Dr.  Watson 82 Airport Dr.  62\n",
      "34 Mayfield St.  Haas 49 Hamilton St.  57\n",
      "7 West Linda Avenue  Hurst 987 Willow Avenue  61\n",
      "98 North Hanover St.  Schultz 977 Shore St.  86\n",
      "421 Lake Forest St.  Schultz 977 Shore St.  86\n",
      "434 East Smith Store Dr.  Watson 82 Airport Dr.  86\n",
      "7015 Arch Street  Mullen 823 S. Cobblestone Street  86\n",
      "9123 North Campfire St.  Haas 49 Hamilton St.  86\n",
      "7978 Pennsylvania Ave.  Mckay 6 Lincoln Ave.  86\n",
      "677 Johnson Lane  Terrell 306A Oakwood Lane  55\n",
      "52 Golden Star Dr.  Willis 384 Ryan Dr.  86\n",
      "8226 Shirley Street  Logan 321 Hickory Street  70\n",
      "56 Trout Lane Unit B Jefferson 56 Oakwood St.  86\n",
      "878 South Franklin St.  Haas 49 Hamilton St.  86\n",
      "976 Linda Drive  Stokes 9173 West Squaw Creek Drive  86\n",
      "780 N. Valley View Ave.  Mckay 6 Lincoln Ave.  86\n",
      "856 North Homewood Road  Cooke 4 Alton Road  86\n",
      "73 Olive Road  Church 9989 S. Ridgeview Road  86\n",
      "40 Chapel Lane  Best 840 Sheffield Lane  69\n",
      "9 East Glen Creek Street  Best 9716 Vale Street  86\n",
      "422 Woodland Ave.  Cox 45 3rd Ave.  86\n",
      "8685 University Street  Hinton 6 Green Street  86\n",
      "702 Harrison Ave.  Cox 45 3rd Ave.  86\n",
      "7826 Victoria Street  Logan 321 Hickory Street  68\n",
      "673 Longbranch St.  Barber 267 Golf St.  86\n",
      "74 Glenlake Drive  Stokes 9173 West Squaw Creek Drive  86\n",
      "55 North Riverview Street  Best 9716 Vale Street  86\n",
      "8555 Gulf Lane  Choi 9684 Goldfield Lane  61\n",
      "665 West Gartner Dr.  Willis 384 Ryan Dr.  86\n",
      "60 Anderson St.  Benson 7022 N. Lantern St.  62\n",
      "8481 Birch Hill Avenue  Vargas 8705 Birch Hill Rd.  67\n",
      "39 Joy Ridge Road  Church 9989 S. Ridgeview Road  67\n",
      "4 Deerfield St.  Bruce 904 Sheffield Ave.  58\n",
      "60 Lake Court  Ferrell 7565 Lancaster Court  86\n",
      "18 S. Thompson Street  Hinton 6 Green Street  86\n",
      "8325 Acacia Street  Banks 7835 Marsh Street  69\n",
      "370 S. Henry Smith Court  Johnston 7436 Court Drive  86\n",
      "724 S. Homestead Ave.  Mckay 6 Lincoln Ave.  86\n",
      "7124 San Carlos Lane  Weber 204 San Carlos Rd.  76\n",
      "7823 Bedford Road  Macdonald 73 Front Road  67\n",
      "9244 Birchwood Ave.  Cox 45 3rd Ave.  86\n",
      "87 New St.  Davis 7489 Bayport St.  86\n",
      "45 Beach Street  Cox 45 3rd Ave.  86\n",
      "737 Bear Hill Ave.  Cox 45 3rd Ave.  86\n",
      "972 Lookout Road  Macdonald 73 Front Road  62\n",
      "713 Second Dr.  Melton 913 Court Drive  57\n",
      "9854 Pawnee Lane  Best 840 Sheffield Lane  59\n",
      "194 North Pine St.  Barber 267 Golf St.  86\n",
      "94 Bowman Road  Church 9989 S. Ridgeview Road  86\n",
      "7183 West University Street  Best 9716 Vale Street  86\n",
      "67 Liberty Lane  Pitts 61 University Lane  73\n",
      "764 Elm Road  Warren 8710 Gainsway Road  86\n",
      "354 Winding Way Ave.  Cox 45 3rd Ave.  86\n",
      "75 Branch Ave.  Maddox 8063 Spring Ave. Apt 66 86\n",
      "267 W. Acacia Street  Barber 267 Golf St.  86\n",
      "226 Beech St.  Wyatt 6 Beech St.  91\n",
      "570 Bayberry St.  Maynard 27 Arch St.  86\n",
      "239 N. Gonzales Street  Hinton 6 Green Street  86\n",
      "15 Orange St.  Nielsen 9426 North Hall St.  86\n",
      "325 Meadowbrook Ave.  Cox 45 3rd Ave.  86\n",
      "338 Fairground Street  Hinton 6 Green Street  86\n",
      "747 Warren St.  Santos 8312 W. Blackburn St.  86\n",
      "693 Sutor Ave.  Maddox 8063 Spring Ave. Apt 66 86\n",
      "11 Courtland Street  Mccoy 919 Orchard Street  70\n",
      "9178 Woodside Street  Wilcox 9980 Hillside Street  70\n",
      "71 Fulton Ave.  Maddox 8063 Spring Ave. Apt 66 86\n",
      "9834 Temple Avenue  Washington 9342 Depot Avenue  74\n",
      "255 Longbranch Street  Hinton 6 Green Street  86\n",
      "8891 Bay Meadows Lane  Dennis 93 Wakehurst Lane  53\n",
      "9485 Evergreen Court  Stone 934 Miller Court  61\n",
      "8180 Maiden Ave.  Cox 45 3rd Ave.  86\n",
      "740 South Jennings St.  Haas 49 Hamilton St.  86\n",
      "621 Berkshire Street  Logan 321 Hickory Street  68\n",
      "306 10th St.  Nielsen 9426 North Hall St.  86\n",
      "4 Bedford Dr.  Ballard 66 Pennsylvania Dr.  86\n",
      "7039 Oakwood Drive  Stokes 9173 West Squaw Creek Drive  86\n",
      "599 North Airport Court  Watson 82 Airport Dr.  86\n",
      "9911 Shore Ave.  Maddox 8063 Spring Ave. Apt 66 86\n",
      "7720 Mechanic St.  Maynard 27 Arch St.  86\n",
      "253 High Noon Street  Grimes 723 Del Monte Street  65\n",
      "8933 Euclid St.  Lucas 789 Glenridge St.  60\n",
      "9332 Bradford Ave.  Cox 45 3rd Ave.  86\n",
      "8 Olive Dr.  Hawkins 9444 Manhattan Dr.  86\n",
      "538 Saxton Dr.  Willis 384 Ryan Dr.  67\n",
      "835 Nicolls St.  Berger 47 NE. Nichols St.  65\n",
      "900 Brewery St.  Nunez 9976 Cemetery St.  60\n",
      "8960 S. Orange St.  Barber 267 Golf St.  86\n",
      "542 South Franklin Street  Best 9716 Vale Street  86\n",
      "192 Glenridge Drive  Houston 7510 S. Glenridge Drive  84\n",
      "8 Edgefield Street  Hinton 6 Green Street  69\n",
      "9237 Smith Store Road  Cooke 4 Alton Road  86\n",
      "872 Lawrence Ave.  Cox 45 3rd Ave.  86\n",
      "9735 Rose St.  Nielsen 9426 North Hall St.  86\n",
      "57 East Lookout St.  Schultz 977 Shore St.  86\n",
      "42 Sunbeam St.  Santos 8312 W. Blackburn St.  86\n",
      "98 Walt Whitman Street  Hinton 6 Green Street  86\n",
      "730 Livingston St.  Barber 267 Golf St.  86\n",
      "63 West Lookout Ave.  Cox 45 3rd Ave.  86\n",
      "15 Lakeview Ave.  Cox 45 3rd Ave.  86\n",
      "7066 Valley Farms Ave.  Mckay 6 Lincoln Ave.  86\n",
      "611 Creekside Drive  Hensley 169 Carriage Drive  65\n",
      "8775 Bohemia Ave.  Cox 45 3rd Ave.  86\n",
      "13 Euclid Court  Conrad 377 N. High Ridge Court  86\n",
      "248 Homestead St.  Maynard 27 Arch St.  86\n",
      "801 Golf St.  Nielsen 9426 North Hall St.  86\n",
      "9396 Amerige St.  Maynard 27 Arch St.  86\n",
      "8581 E. Shirley St.  Schultz 977 Shore St.  86\n",
      "700 Trusel Lane  Best 840 Sheffield Lane  61\n",
      "7727 Glenwood St.  Maynard 27 Arch St.  86\n",
      "8 Coffee Court  Conrad 377 N. High Ridge Court  86\n",
      "548 Richardson St.  Barber 267 Golf St.  86\n",
      "7918 Ketch Harbour St.  Haas 49 Hamilton St.  86\n",
      "913 Prospect Street  Jackson 9 Jones Street  67\n",
      "217 Snake Hill St.  Barber 267 Golf St.  86\n",
      "853 Valley Farms Ave.  Mckay 6 Lincoln Ave.  86\n",
      "900 South Annadale St.  Haas 49 Hamilton St.  86\n",
      "721 E. Grant Ave.  Cox 45 3rd Ave.  86\n",
      "83 E. Devon Lane  Morris 7393 E. Garden Ave.  65\n",
      "82 E. Mill Pond Court  Watson 82 Airport Dr.  86\n",
      "30 Valley View Ave. Suite 15 Mckay 6 Lincoln Ave.  86\n",
      "27 Crescent Street  Maynard 27 Arch St.  86\n",
      "746 Annadale St.  Maynard 27 Arch St.  86\n",
      "447 Riverview Ave.  Cox 45 3rd Ave.  86\n",
      "74 Holly Ave.  Maddox 8063 Spring Ave. Apt 66 86\n",
      "8 Wilson Dr.  Hawkins 9444 Manhattan Dr.  86\n",
      "8029 Morris Street  Jackson 9 Jones Street  69\n",
      "68 Fieldstone Lane  Choi 9684 Goldfield Lane  70\n",
      "1 W. Water Street  James 7074 SW. Wild Horse Street  86\n",
      "93 Atlantic St.  Norman 749 N. Atlantic Drive  86\n",
      "8167 E. Military Dr.  Willis 384 Ryan Dr.  86\n",
      "533 Sage Drive  Stokes 9173 West Squaw Creek Drive  86\n",
      "8719 Lexington Ave.  Cox 45 3rd Ave.  86\n",
      "739 Sunset St.  Santos 8312 W. Blackburn St.  86\n",
      "45 Marconi Rd. Fuentes 45 N. Marconi Road  84\n",
      "16 Third St.  Nielsen 9426 North Hall St.  86\n",
      "9678 N. Kingston Street  Hinton 6 Green Street  86\n",
      "9807 Oak Dr.  Hawkins 9444 Manhattan Dr.  86\n",
      "45 North Marconi Cox 45 3rd Ave.  86\n",
      "7626 Aspen Rd.  Allison 762 Aspen Road 89\n"
     ]
    }
   ],
   "source": [
    "for i in range(len(df_vendors['VendorBillingAddress'])):\n",
    "\n",
    "    score = process.extractOne(df_vendors['VendorBillingAddress'][i], ee_choices)\n",
    "    ee_name = df_employees['EmployeeLastName'][ee_choices.index(score[0])]\n",
    "    print(df_vendors['VendorBillingAddress'][i], ee_name,score[0], score[1])\n",
    "#     scores.append(df_vendors['VendorName'][i],df_vendors['VendorBillingAddress'][i],score[0], score[1])\n",
    "    "
   ]
  },
  {
   "cell_type": "code",
   "execution_count": null,
   "metadata": {},
   "outputs": [],
   "source": []
  }
 ],
 "metadata": {
  "kernelspec": {
   "display_name": "Python 3",
   "language": "python",
   "name": "python3"
  },
  "language_info": {
   "codemirror_mode": {
    "name": "ipython",
    "version": 3
   },
   "file_extension": ".py",
   "mimetype": "text/x-python",
   "name": "python",
   "nbconvert_exporter": "python",
   "pygments_lexer": "ipython3",
   "version": "3.7.4"
  }
 },
 "nbformat": 4,
 "nbformat_minor": 4
}
